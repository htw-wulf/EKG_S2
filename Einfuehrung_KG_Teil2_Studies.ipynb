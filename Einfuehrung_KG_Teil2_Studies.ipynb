{
 "cells": [
  {
   "cell_type": "markdown",
   "id": "c127a5cf",
   "metadata": {},
   "source": [
    "# Einführung in Informatik in Kultur und Gesundheit\n",
    "## Gesundheitsinformatik Teil 2"
   ]
  },
  {
   "cell_type": "markdown",
   "id": "147b3767",
   "metadata": {},
   "source": [
    "Im heutigen Seminar werden wir uns mit Genomdaten beschäftigen und ein paar Basis Metriken bestimmen. Zunächst Kümmern wir uns um die Module die wir für das heutige Seminar brauchen."
   ]
  },
  {
   "cell_type": "code",
   "execution_count": null,
   "id": "eb609cdc",
   "metadata": {},
   "outputs": [],
   "source": [
    "import requests # Zum herunterladen der Daten\n",
    "import seaborn as sns # Zum Visualisieren\n",
    "import os       # Zum erstellen und löschen von Verzeichnissen\n",
    "import pandas\n",
    "import matplotlib.pyplot as plt"
   ]
  },
  {
   "cell_type": "markdown",
   "id": "842a82c2",
   "metadata": {},
   "source": [
    "Zunächst erstellen wir uns ein Verzeichnis für die heute Veranstaltung. Um im Anschluss den Datenspeicher wieder freigeben zu können."
   ]
  },
  {
   "cell_type": "code",
   "execution_count": null,
   "id": "67fd0e67",
   "metadata": {},
   "outputs": [],
   "source": [
    "directory = \"EKG_S2\"\n",
    "if not os.path.isdir(directory):\n",
    "    os.mkdir(\"EKG_S2\")\n",
    "# Inhalt des neuen Verzeichnisses Anzeigen    \n",
    "print(os.listdir(\"EKG_S2\"))\n"
   ]
  },
  {
   "cell_type": "markdown",
   "id": "a30da2c3",
   "metadata": {},
   "source": [
    "Nun definieren wir dafür eine Funktion die es uns ermöglicht die öffentlich verfügbaren Genomdaten herunter zu laden und in eine Datei zu speichern."
   ]
  },
  {
   "cell_type": "code",
   "execution_count": null,
   "id": "9abe5039",
   "metadata": {},
   "outputs": [],
   "source": [
    "def downloadData (url,dateipfad):\n",
    "    with open(dateipfad,\"w\") as datei:\n",
    "        response = requests.get(url)\n",
    "        print(\"Status Code des HTTP-Requests:\",response.status_code)\n",
    "        if response.status_code ==200:\n",
    "            datei.write(response.text)"
   ]
  },
  {
   "cell_type": "markdown",
   "id": "bdc75754",
   "metadata": {},
   "source": [
    "Und die Daten die wir für heute benötigen."
   ]
  },
  {
   "cell_type": "code",
   "execution_count": null,
   "id": "285508af",
   "metadata": {},
   "outputs": [],
   "source": [
    "data_genomes = {\n",
    "    \n",
    "    directory+\"/human_chr21_genome.fasta\":\"https://raw.githubusercontent.com/htw-wulf/EKG_S2/main/Genomes/human_chr21.fasta\",\n",
    "    directory+\"/smallpox_genome.fasta\":\"https://raw.githubusercontent.com/htw-wulf/EKG_S2/main/Genomes/smallpox.fasta\",\n",
    "    directory+\"/varizella_zoster.fasta\":\"https://raw.githubusercontent.com/htw-wulf/EKG_S2/main/Genomes/varizella_zoster.fasta\"\n",
    "       }"
   ]
  },
  {
   "cell_type": "markdown",
   "id": "80126a80",
   "metadata": {},
   "source": [
    "## Aufwärmrunde!\n",
    "__Aufgabe 1:__ Schreiben Sie im Folgenden Code Block einen Code der es Ihnen ermöglicht die Daten automatisiert herunter zuladen. Nutzen Sie dazu die gegebene Funktion `downloadData(url,dateiname)`. Nutzen Sie eine Funktion aus dem `os`-Modul um zu überprüfen ob die Datei schon existiert und nutzen Sie die `os.path.getsize(\"/path/to/file.fasta\")` Methode um zu überprüfen ob die Datei auch gefüllt ist. Wenn die Datei bereits existiert, soll die Datei nicht erneut herunter geladen werden! "
   ]
  },
  {
   "cell_type": "code",
   "execution_count": null,
   "id": "ebcc742f",
   "metadata": {},
   "outputs": [],
   "source": [
    "pass"
   ]
  },
  {
   "cell_type": "markdown",
   "id": "fa883098",
   "metadata": {},
   "source": [
    "__Aufgabe2:__ Schreiben Sie eine Funktion `head_fasta(file,n=5)`, die zunächste den Dateinamen ausgibt und anschließend die ersten n Zeilen einer Genomdatei einliest und direkt unter über den `print` Befehl wieder ausgibt. Überlegen Sie sich eine Methode die nicht die vollständige Datei einlesen muss. Schreiben Sie zudem eine Schleife, die Ihre Funktion für die beiden Genome Ausführt."
   ]
  },
  {
   "cell_type": "code",
   "execution_count": null,
   "id": "0525dca1",
   "metadata": {},
   "outputs": [],
   "source": [
    "def head_fasta(file,n=5):\n",
    "    pass\n",
    "            \n",
    "for p in data_genomes.keys():\n",
    "    head_fasta(p)"
   ]
  },
  {
   "cell_type": "markdown",
   "id": "0494b5d7",
   "metadata": {},
   "source": [
    "__Aufgabe 3:__ Fasta Datein können mehrere Einträge enthalten. Alle beginnen immer mit einem `>` Zeichen gefolgt von einer Namen/ID und einer Beschreibung nach dem ersten `Space`. Schreiben Sie eine Funktion, die den Pfad einer Genomdatei bekommt und ein Dictionary zurück gibt. Dabei ist der `key` der Name/die ID der Sequenz ohne Beschreibung. Als Value bekommt das Dictionary die Vollständige Sequenz. Achten bringen sie Sequenzen Konsequent in den Uppercase und ersetzen Sie alle U durch T! Nutzen Sie den print Befehl um die Anzahl der Geladenen Sequenzen auszugeben! Verwenden Sie zum Testen die Datei `toy_example.fasta`. "
   ]
  },
  {
   "cell_type": "code",
   "execution_count": null,
   "id": "a876a2da",
   "metadata": {},
   "outputs": [],
   "source": [
    "def fasta2dict(path):\n",
    "    pass\n",
    "    \n",
    "    \n"
   ]
  },
  {
   "cell_type": "code",
   "execution_count": null,
   "id": "22979829",
   "metadata": {},
   "outputs": [],
   "source": [
    "genome_smallpox = fasta2dict(directory+\"/smallpox_genome.fasta\")\n",
    "genome_human = fasta2dict(directory+\"/human_chr21_genome.fasta\")\n",
    "genome_varizella = fasta2dict(directory+\"/varizella_zoster.fasta\")"
   ]
  },
  {
   "cell_type": "markdown",
   "id": "6b53f944",
   "metadata": {},
   "source": [
    "__Aufgabe 4:__ Wie auch in der Informatik üblich ist auch in der Gesundheitsinformatik eine Validierung der Eingabedaten wichtig und Sinnvoll. Wie Besprochen können Fasta Dateien auch Protein Daten enthalten. Diese würden aber die folgenden Analysen unbrauchbar machen. Schreiben Sie eine Funktion `validate_genomic_fasta( dict)`, die ein Dictionary aus `fasta2dict` bekommt und eine \"Warnmeldung\" via print für die jeweilige Datei ausgibt, wenn Symbole abweichend von A,C,G,T,N auftauchen und eine \"Fehlermeldung\" via print wenn Sie eindeutige Protein Symbole finden! Geben Sie über ein print die Verdächtigen Symbole aus. Wenn keine Eindeutigen Proteinsequenzen gefunden werden soll `True` zurückgegeben werden, sonst `False`.\n",
    "\n",
    "Validieren Sie Ihre Funktion mit Hilfe von `EKG_S2/Toy{1-3}.fasta\n",
    "\n",
    "Hier noch mal die Übersicht über die Symbole:\n",
    "\n",
    "\n",
    "|IUPAC nucleotide code |Base|\n",
    "|-------|----|\n",
    "|A|Adenine|\n",
    "|C|Cytosine|\n",
    "|G|Guanine|\n",
    "|T (or U)|Thymine (or Uracil)|\n",
    "|R|\tA or G|\n",
    "|Y|C or T|\n",
    "|S|\tG or C|\n",
    "|W|A or T|\n",
    "|K|G or T|\n",
    "|M|A or C|\n",
    "|B|C or G or T|\n",
    "|D|\tA or G or T|\n",
    "|H|\tA or C or T|\n",
    "|V|\tA or C or G|\n",
    "|N|\tany base|\n",
    "|. or -|gap|\n",
    "\n",
    "\n",
    "|IUPAC amino acid code |Three letter code | Amino acid|\n",
    "|---|---|--|\n",
    "|A |Ala | Alanine|\n",
    "|C |Cys | Cysteine|\n",
    "|D | Asp | Aspartic Acid|\n",
    "|__E__ | Glu | Glutamic Acid|\n",
    "|__F__ | Phe | Phenylalanine|\n",
    "|G | Gly | Glycine|\n",
    "|H | His | Histidine|\n",
    "|__I__ | Ile | Isoleucine|\n",
    "|K | Lys | Lysine|\n",
    "|__L__ | Leu | Leucine|\n",
    "|M | Met | Methionine|\n",
    "|N | Asn | Asparagine|\n",
    "|__P__ | Pro | Proline|\n",
    "|__Q__ | Gln | Glutamine|\n",
    "|R | Arg | Arginine|\n",
    "|S | Ser | Serine|\n",
    "|T | Thr | Threonine|\n",
    "|V | Val | Valine|\n",
    "|W | Trp | Tryptophan|\n",
    "|Y | Tyr | Tyrosine|\n"
   ]
  },
  {
   "cell_type": "code",
   "execution_count": null,
   "id": "bda7a4f5",
   "metadata": {},
   "outputs": [],
   "source": [
    "def validate_genomic_fasta( fastad):\n",
    "    pass\n",
    "\n",
    "\n",
    "toy1,toy2,toy3 = fasta2dict(directory+\"/Toy1.fasta\"),fasta2dict(directory+\"/Toy2.fasta\"),fasta2dict(directory+\"/Toy3.fasta\")\n",
    "\n",
    "print(validate_genomic_fasta(toy1))\n",
    "print(validate_genomic_fasta(toy2))\n",
    "print(validate_genomic_fasta(toy3))\n"
   ]
  },
  {
   "cell_type": "markdown",
   "id": "74e64d4d",
   "metadata": {},
   "source": [
    "__Aufgabe 5:__ Nun da wir die Sequenzen erfolgreich geladen haben wollen wir ein paar erste Statistiken erstellen. Erstellen Sie eine Funktion `fasta_len(fasta_dict)`. Diese bekommt ein fasta2dict Dictionary und soll für jede Sequenz die Komplettlänge bestimmen, die Summe der eindeutig bestimmten Position der gesammten Sequenz, sowie den Anteil der Eindeutigen Position in Relation zur Gesammtlänge in % als `tuple` in einem Dictionary. Was fällt Ihnen dabei etwas auf?"
   ]
  },
  {
   "cell_type": "code",
   "execution_count": null,
   "id": "238b8319",
   "metadata": {},
   "outputs": [],
   "source": [
    "def fasta_len(fasta_dict):\n",
    "    pass\n",
    "        \n",
    "\n",
    "    "
   ]
  },
  {
   "cell_type": "code",
   "execution_count": null,
   "id": "392ca503",
   "metadata": {},
   "outputs": [],
   "source": [
    "print(fasta_len(genome_human))\n",
    "print(fasta_len(genome_smallpox))\n",
    "print(fasta_len(genome_varizella))"
   ]
  },
  {
   "cell_type": "markdown",
   "id": "70ffeb2c",
   "metadata": {},
   "source": [
    "__Aufgabe6__: Schreiben Sie eine Funktion `sequenceGC(fasta2dict)`. Diese bekommt ein ein Dictionary aus `fasta2dict`. Zurückgegeben werden soll pro Sequenz der Anzeil an 'GC' zu 'ATGC'. Validieren Sie Ihre Funktion mit 'toy_example.fasta'. Bemerken Sie ein Problem? "
   ]
  },
  {
   "cell_type": "code",
   "execution_count": null,
   "id": "5d79cf7b",
   "metadata": {},
   "outputs": [],
   "source": [
    "def sequenceGC(fasta2dictelem):\n",
    "    pass\n",
    "print(sequenceGC(genome_human))\n"
   ]
  },
  {
   "cell_type": "markdown",
   "id": "38607321",
   "metadata": {},
   "source": [
    "__Aufgabe7__: Im folgenden Spalten Sie die Genome in sogenannte k-mere auf. Bei k-meren handelt es sich um überlappende Region der Länge 'k'und bestimmen für diese den K-mer Gehalt. Geben Sie mit der Funktion  `seq2kmer_gc(Sequencename,seq,kmersize=300)`in einer Liste aus tupeln `(seqname,startpos, GCcontent)`für jedes K-Mer die Startposition des Kmers und den GC-Gehalt zurück, wenn mindestes 50% Kmers aus \"ACGTSK\" und eindeutig bestimmbar sind.  "
   ]
  },
  {
   "cell_type": "code",
   "execution_count": null,
   "id": "8a26fd42",
   "metadata": {},
   "outputs": [],
   "source": [
    "def seq2kmer_gc(seqname, seq, kmersize=300):\n",
    "    pass\n",
    "            \n"
   ]
  },
  {
   "cell_type": "code",
   "execution_count": null,
   "id": "5ce0793b",
   "metadata": {},
   "outputs": [],
   "source": [
    "smallpox_genomeGC = pandas.DataFrame(seq2kmer_gc(\"smallpox\",genome_smallpox['NC_001611.1'],300),columns =['Data', 'GenomePos', 'GC'])\n",
    "display(smallpox_genomeGC)\n",
    "human_genomeGC = pandas.DataFrame(seq2kmer_gc(\"human\",genome_human['NC_000021.9'][5000000:6000000],300),columns =['Data', 'GenomePos', 'GC'])\n",
    "display(human_genomeGC)\n",
    "varizella_genomeGC = pandas.DataFrame(seq2kmer_gc(\"varizella\",genome_varizella['NC_001348.1'],300),columns =['Data', 'GenomePos', 'GC'])\n",
    "display(varizella_genomeGC)\n"
   ]
  },
  {
   "cell_type": "markdown",
   "id": "6d1b9997",
   "metadata": {},
   "source": [
    "__Aufgabe 8:__ Erstellen sie für die 3 Datensätze je einen Lineplot mit Hilfe von Seaborn auf der x-Achse soll sich die Position im Genom befinden, auf der y-Achse der GC-Gehalt."
   ]
  },
  {
   "cell_type": "code",
   "execution_count": null,
   "id": "ede3f12d",
   "metadata": {},
   "outputs": [],
   "source": []
  },
  {
   "cell_type": "markdown",
   "id": "577fead0",
   "metadata": {},
   "source": [
    "__Aufgabe 9:__ Erstellen Sie mit Seaborn einen einzellnen Violin-Plot für die 3 Genome anhand des GC-Gehalts. Was können Sie sehen?"
   ]
  },
  {
   "cell_type": "code",
   "execution_count": null,
   "id": "341c2fb3",
   "metadata": {},
   "outputs": [],
   "source": []
  },
  {
   "cell_type": "markdown",
   "id": "ddba06e3",
   "metadata": {},
   "source": [
    "__Aufgabe 10:__ Eine Klink wurde von drei Patienten mit Pustelbefall aufgesucht. Aufgrund des Krankheitsbildes besteht der Verdacht, dass die Patienten an Pocken erkrankt sind. Pocken sind eine schwerwiegende Krankheit, deren Ausbreitung verhindert werden muss, da in der jüngeren Bevölkerung kaum Imunität vorhanden ist. Neben der möglichen Pocken Diagnose ist auch eine klassische Windpocken Infektion denkbar. Zur Abklärung der Erkrankung hat der Arzt je Patient eine Probe ins Labor eingesendet, in dem diese neben klassischen Antigen Tests auch Sequenziert wurde. Die Sequenzierungsdaten finden Sie in können Sie über das untenstehende Skript herrunterladen. Bestimmen Sie die GC werte der Proben und Plotten Sie diese gemeinsam mit den 3 Referenzen. Können Sie die Pockendiagnose eher für die Patienten eher bestätigen oder eher ausschließen?  "
   ]
  },
  {
   "cell_type": "code",
   "execution_count": null,
   "id": "2c9cd564",
   "metadata": {},
   "outputs": [],
   "source": []
  }
 ],
 "metadata": {
  "kernelspec": {
   "display_name": "Python 3 (ipykernel)",
   "language": "python",
   "name": "python3"
  },
  "language_info": {
   "codemirror_mode": {
    "name": "ipython",
    "version": 3
   },
   "file_extension": ".py",
   "mimetype": "text/x-python",
   "name": "python",
   "nbconvert_exporter": "python",
   "pygments_lexer": "ipython3",
   "version": "3.10.11"
  }
 },
 "nbformat": 4,
 "nbformat_minor": 5
}
